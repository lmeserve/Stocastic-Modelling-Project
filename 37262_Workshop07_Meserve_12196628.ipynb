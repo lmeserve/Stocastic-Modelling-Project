{
 "cells": [
  {
   "cell_type": "markdown",
   "metadata": {},
   "source": [
    "<p style=\"text-align: left;\"> Lucas Meserve 12196628 <span style=\"float:right;\"> 37262_workshop7</span></p>"
   ]
  },
  {
   "cell_type": "code",
   "execution_count": 1,
   "metadata": {
    "collapsed": false
   },
   "outputs": [],
   "source": [
    "from math import *\n",
    "import numpy as np\n",
    "import pandas as pd\n",
    "%matplotlib inline\n",
    "import matplotlib.pyplot as plt\n",
    "from collections import Counter"
   ]
  },
  {
   "cell_type": "markdown",
   "metadata": {},
   "source": [
    "## Question 1\n",
    "\n",
    "### Method:\n",
    "\n",
    "I started with a function that runs a single round of the game.\n",
    "That is passed to a function that simulates 20 rounds and records the winner of each round.\n",
    "This is then passed to a function that will run the game 500 time and record the \n",
    "\n",
    "### Results:\n"
   ]
  },
  {
   "cell_type": "code",
   "execution_count": 2,
   "metadata": {
    "collapsed": true
   },
   "outputs": [],
   "source": [
    "def single_round():\n",
    "    h = .1\n",
    "    l = 0.5\n",
    "    T = np.random.exponential(30)\n",
    "    position = np.array([1])\n",
    "    \n",
    "    for time in np.arange(0, T, h):\n",
    "        p = np.random.random()\n",
    "        \n",
    "        if p <= (h * l):\n",
    "            \n",
    "            if position[-1] < 10:\n",
    "                position = np.append(position, position[-1] + 1)\n",
    "            \n",
    "            if position[-1] == 10:\n",
    "                    position = np.append(position, 1)\n",
    "                    \n",
    "    return position"
   ]
  },
  {
   "cell_type": "code",
   "execution_count": 3,
   "metadata": {
    "collapsed": true
   },
   "outputs": [],
   "source": [
    "def twenty_rounds():\n",
    "    results = np.array([])\n",
    "    for item in range(20):\n",
    "        results = np.append(results, single_round()[-1])\n",
    "    return pd.Series(results)"
   ]
  },
  {
   "cell_type": "code",
   "execution_count": 10,
   "metadata": {
    "collapsed": false
   },
   "outputs": [],
   "source": [
    "def fiveHundred_games():\n",
    "    np.random.seed(1234)\n",
    "#     df = pd.DataFrame()\n",
    "#     for item in range(500):\n",
    "#             game = pd.DataFrame(twenty_rounds())\n",
    "#             df = pd.concat([df, game], axis=1)\n",
    "            \n",
    "    df = pd.concat([pd.DataFrame(twenty_rounds()) for _ in range(500)], axis=1)        \n",
    "    df.columns = ['round'+str(i) for i in range(500) ]            \n",
    "    return df"
   ]
  },
  {
   "cell_type": "code",
   "execution_count": 11,
   "metadata": {
    "collapsed": false
   },
   "outputs": [
    {
     "data": {
      "text/html": [
       "<div>\n",
       "<table border=\"1\" class=\"dataframe\">\n",
       "  <thead>\n",
       "    <tr style=\"text-align: right;\">\n",
       "      <th></th>\n",
       "      <th>round0</th>\n",
       "      <th>round1</th>\n",
       "      <th>round2</th>\n",
       "      <th>round3</th>\n",
       "      <th>round4</th>\n",
       "      <th>round5</th>\n",
       "      <th>round6</th>\n",
       "      <th>round7</th>\n",
       "      <th>round8</th>\n",
       "      <th>round9</th>\n",
       "      <th>...</th>\n",
       "      <th>round490</th>\n",
       "      <th>round491</th>\n",
       "      <th>round492</th>\n",
       "      <th>round493</th>\n",
       "      <th>round494</th>\n",
       "      <th>round495</th>\n",
       "      <th>round496</th>\n",
       "      <th>round497</th>\n",
       "      <th>round498</th>\n",
       "      <th>round499</th>\n",
       "    </tr>\n",
       "  </thead>\n",
       "  <tbody>\n",
       "    <tr>\n",
       "      <th>0</th>\n",
       "      <td>5</td>\n",
       "      <td>7</td>\n",
       "      <td>2</td>\n",
       "      <td>7</td>\n",
       "      <td>3</td>\n",
       "      <td>3</td>\n",
       "      <td>9</td>\n",
       "      <td>3</td>\n",
       "      <td>1</td>\n",
       "      <td>8</td>\n",
       "      <td>...</td>\n",
       "      <td>5</td>\n",
       "      <td>4</td>\n",
       "      <td>3</td>\n",
       "      <td>1</td>\n",
       "      <td>4</td>\n",
       "      <td>2</td>\n",
       "      <td>2</td>\n",
       "      <td>2</td>\n",
       "      <td>2</td>\n",
       "      <td>6</td>\n",
       "    </tr>\n",
       "    <tr>\n",
       "      <th>1</th>\n",
       "      <td>2</td>\n",
       "      <td>4</td>\n",
       "      <td>3</td>\n",
       "      <td>2</td>\n",
       "      <td>8</td>\n",
       "      <td>8</td>\n",
       "      <td>7</td>\n",
       "      <td>1</td>\n",
       "      <td>8</td>\n",
       "      <td>7</td>\n",
       "      <td>...</td>\n",
       "      <td>6</td>\n",
       "      <td>8</td>\n",
       "      <td>9</td>\n",
       "      <td>8</td>\n",
       "      <td>5</td>\n",
       "      <td>9</td>\n",
       "      <td>8</td>\n",
       "      <td>6</td>\n",
       "      <td>8</td>\n",
       "      <td>4</td>\n",
       "    </tr>\n",
       "    <tr>\n",
       "      <th>2</th>\n",
       "      <td>7</td>\n",
       "      <td>3</td>\n",
       "      <td>5</td>\n",
       "      <td>4</td>\n",
       "      <td>2</td>\n",
       "      <td>7</td>\n",
       "      <td>5</td>\n",
       "      <td>9</td>\n",
       "      <td>9</td>\n",
       "      <td>2</td>\n",
       "      <td>...</td>\n",
       "      <td>2</td>\n",
       "      <td>1</td>\n",
       "      <td>2</td>\n",
       "      <td>5</td>\n",
       "      <td>1</td>\n",
       "      <td>2</td>\n",
       "      <td>9</td>\n",
       "      <td>7</td>\n",
       "      <td>3</td>\n",
       "      <td>3</td>\n",
       "    </tr>\n",
       "    <tr>\n",
       "      <th>3</th>\n",
       "      <td>5</td>\n",
       "      <td>7</td>\n",
       "      <td>2</td>\n",
       "      <td>1</td>\n",
       "      <td>8</td>\n",
       "      <td>7</td>\n",
       "      <td>3</td>\n",
       "      <td>5</td>\n",
       "      <td>2</td>\n",
       "      <td>7</td>\n",
       "      <td>...</td>\n",
       "      <td>1</td>\n",
       "      <td>3</td>\n",
       "      <td>2</td>\n",
       "      <td>6</td>\n",
       "      <td>1</td>\n",
       "      <td>8</td>\n",
       "      <td>8</td>\n",
       "      <td>3</td>\n",
       "      <td>4</td>\n",
       "      <td>3</td>\n",
       "    </tr>\n",
       "    <tr>\n",
       "      <th>4</th>\n",
       "      <td>7</td>\n",
       "      <td>8</td>\n",
       "      <td>8</td>\n",
       "      <td>9</td>\n",
       "      <td>5</td>\n",
       "      <td>5</td>\n",
       "      <td>2</td>\n",
       "      <td>5</td>\n",
       "      <td>4</td>\n",
       "      <td>6</td>\n",
       "      <td>...</td>\n",
       "      <td>1</td>\n",
       "      <td>1</td>\n",
       "      <td>9</td>\n",
       "      <td>8</td>\n",
       "      <td>5</td>\n",
       "      <td>2</td>\n",
       "      <td>8</td>\n",
       "      <td>6</td>\n",
       "      <td>4</td>\n",
       "      <td>7</td>\n",
       "    </tr>\n",
       "    <tr>\n",
       "      <th>5</th>\n",
       "      <td>8</td>\n",
       "      <td>1</td>\n",
       "      <td>9</td>\n",
       "      <td>2</td>\n",
       "      <td>2</td>\n",
       "      <td>4</td>\n",
       "      <td>9</td>\n",
       "      <td>4</td>\n",
       "      <td>7</td>\n",
       "      <td>1</td>\n",
       "      <td>...</td>\n",
       "      <td>5</td>\n",
       "      <td>3</td>\n",
       "      <td>1</td>\n",
       "      <td>8</td>\n",
       "      <td>1</td>\n",
       "      <td>5</td>\n",
       "      <td>1</td>\n",
       "      <td>2</td>\n",
       "      <td>9</td>\n",
       "      <td>7</td>\n",
       "    </tr>\n",
       "    <tr>\n",
       "      <th>6</th>\n",
       "      <td>6</td>\n",
       "      <td>9</td>\n",
       "      <td>7</td>\n",
       "      <td>7</td>\n",
       "      <td>2</td>\n",
       "      <td>9</td>\n",
       "      <td>1</td>\n",
       "      <td>1</td>\n",
       "      <td>1</td>\n",
       "      <td>8</td>\n",
       "      <td>...</td>\n",
       "      <td>6</td>\n",
       "      <td>7</td>\n",
       "      <td>4</td>\n",
       "      <td>6</td>\n",
       "      <td>8</td>\n",
       "      <td>9</td>\n",
       "      <td>4</td>\n",
       "      <td>8</td>\n",
       "      <td>7</td>\n",
       "      <td>1</td>\n",
       "    </tr>\n",
       "    <tr>\n",
       "      <th>7</th>\n",
       "      <td>2</td>\n",
       "      <td>6</td>\n",
       "      <td>2</td>\n",
       "      <td>6</td>\n",
       "      <td>3</td>\n",
       "      <td>1</td>\n",
       "      <td>1</td>\n",
       "      <td>6</td>\n",
       "      <td>4</td>\n",
       "      <td>4</td>\n",
       "      <td>...</td>\n",
       "      <td>2</td>\n",
       "      <td>8</td>\n",
       "      <td>7</td>\n",
       "      <td>9</td>\n",
       "      <td>2</td>\n",
       "      <td>4</td>\n",
       "      <td>9</td>\n",
       "      <td>7</td>\n",
       "      <td>1</td>\n",
       "      <td>1</td>\n",
       "    </tr>\n",
       "    <tr>\n",
       "      <th>8</th>\n",
       "      <td>2</td>\n",
       "      <td>9</td>\n",
       "      <td>3</td>\n",
       "      <td>9</td>\n",
       "      <td>4</td>\n",
       "      <td>4</td>\n",
       "      <td>7</td>\n",
       "      <td>5</td>\n",
       "      <td>2</td>\n",
       "      <td>8</td>\n",
       "      <td>...</td>\n",
       "      <td>7</td>\n",
       "      <td>5</td>\n",
       "      <td>2</td>\n",
       "      <td>4</td>\n",
       "      <td>3</td>\n",
       "      <td>4</td>\n",
       "      <td>1</td>\n",
       "      <td>5</td>\n",
       "      <td>9</td>\n",
       "      <td>7</td>\n",
       "    </tr>\n",
       "    <tr>\n",
       "      <th>9</th>\n",
       "      <td>1</td>\n",
       "      <td>6</td>\n",
       "      <td>4</td>\n",
       "      <td>3</td>\n",
       "      <td>6</td>\n",
       "      <td>3</td>\n",
       "      <td>8</td>\n",
       "      <td>2</td>\n",
       "      <td>6</td>\n",
       "      <td>1</td>\n",
       "      <td>...</td>\n",
       "      <td>5</td>\n",
       "      <td>1</td>\n",
       "      <td>9</td>\n",
       "      <td>5</td>\n",
       "      <td>6</td>\n",
       "      <td>6</td>\n",
       "      <td>5</td>\n",
       "      <td>1</td>\n",
       "      <td>5</td>\n",
       "      <td>8</td>\n",
       "    </tr>\n",
       "    <tr>\n",
       "      <th>10</th>\n",
       "      <td>9</td>\n",
       "      <td>9</td>\n",
       "      <td>4</td>\n",
       "      <td>9</td>\n",
       "      <td>7</td>\n",
       "      <td>3</td>\n",
       "      <td>3</td>\n",
       "      <td>2</td>\n",
       "      <td>9</td>\n",
       "      <td>9</td>\n",
       "      <td>...</td>\n",
       "      <td>4</td>\n",
       "      <td>9</td>\n",
       "      <td>6</td>\n",
       "      <td>2</td>\n",
       "      <td>1</td>\n",
       "      <td>8</td>\n",
       "      <td>1</td>\n",
       "      <td>7</td>\n",
       "      <td>9</td>\n",
       "      <td>7</td>\n",
       "    </tr>\n",
       "    <tr>\n",
       "      <th>11</th>\n",
       "      <td>1</td>\n",
       "      <td>8</td>\n",
       "      <td>2</td>\n",
       "      <td>5</td>\n",
       "      <td>4</td>\n",
       "      <td>6</td>\n",
       "      <td>8</td>\n",
       "      <td>2</td>\n",
       "      <td>2</td>\n",
       "      <td>5</td>\n",
       "      <td>...</td>\n",
       "      <td>5</td>\n",
       "      <td>3</td>\n",
       "      <td>3</td>\n",
       "      <td>5</td>\n",
       "      <td>2</td>\n",
       "      <td>8</td>\n",
       "      <td>6</td>\n",
       "      <td>5</td>\n",
       "      <td>9</td>\n",
       "      <td>6</td>\n",
       "    </tr>\n",
       "    <tr>\n",
       "      <th>12</th>\n",
       "      <td>1</td>\n",
       "      <td>6</td>\n",
       "      <td>4</td>\n",
       "      <td>3</td>\n",
       "      <td>7</td>\n",
       "      <td>6</td>\n",
       "      <td>8</td>\n",
       "      <td>3</td>\n",
       "      <td>3</td>\n",
       "      <td>7</td>\n",
       "      <td>...</td>\n",
       "      <td>1</td>\n",
       "      <td>4</td>\n",
       "      <td>8</td>\n",
       "      <td>6</td>\n",
       "      <td>5</td>\n",
       "      <td>1</td>\n",
       "      <td>1</td>\n",
       "      <td>4</td>\n",
       "      <td>3</td>\n",
       "      <td>1</td>\n",
       "    </tr>\n",
       "    <tr>\n",
       "      <th>13</th>\n",
       "      <td>4</td>\n",
       "      <td>4</td>\n",
       "      <td>6</td>\n",
       "      <td>6</td>\n",
       "      <td>4</td>\n",
       "      <td>4</td>\n",
       "      <td>8</td>\n",
       "      <td>1</td>\n",
       "      <td>7</td>\n",
       "      <td>9</td>\n",
       "      <td>...</td>\n",
       "      <td>9</td>\n",
       "      <td>9</td>\n",
       "      <td>5</td>\n",
       "      <td>8</td>\n",
       "      <td>3</td>\n",
       "      <td>6</td>\n",
       "      <td>6</td>\n",
       "      <td>8</td>\n",
       "      <td>7</td>\n",
       "      <td>8</td>\n",
       "    </tr>\n",
       "    <tr>\n",
       "      <th>14</th>\n",
       "      <td>2</td>\n",
       "      <td>2</td>\n",
       "      <td>9</td>\n",
       "      <td>9</td>\n",
       "      <td>8</td>\n",
       "      <td>2</td>\n",
       "      <td>8</td>\n",
       "      <td>3</td>\n",
       "      <td>1</td>\n",
       "      <td>7</td>\n",
       "      <td>...</td>\n",
       "      <td>1</td>\n",
       "      <td>1</td>\n",
       "      <td>8</td>\n",
       "      <td>3</td>\n",
       "      <td>4</td>\n",
       "      <td>3</td>\n",
       "      <td>8</td>\n",
       "      <td>5</td>\n",
       "      <td>1</td>\n",
       "      <td>8</td>\n",
       "    </tr>\n",
       "    <tr>\n",
       "      <th>15</th>\n",
       "      <td>3</td>\n",
       "      <td>7</td>\n",
       "      <td>4</td>\n",
       "      <td>8</td>\n",
       "      <td>3</td>\n",
       "      <td>1</td>\n",
       "      <td>7</td>\n",
       "      <td>3</td>\n",
       "      <td>3</td>\n",
       "      <td>3</td>\n",
       "      <td>...</td>\n",
       "      <td>5</td>\n",
       "      <td>2</td>\n",
       "      <td>9</td>\n",
       "      <td>9</td>\n",
       "      <td>4</td>\n",
       "      <td>9</td>\n",
       "      <td>1</td>\n",
       "      <td>8</td>\n",
       "      <td>7</td>\n",
       "      <td>4</td>\n",
       "    </tr>\n",
       "    <tr>\n",
       "      <th>16</th>\n",
       "      <td>9</td>\n",
       "      <td>7</td>\n",
       "      <td>3</td>\n",
       "      <td>8</td>\n",
       "      <td>3</td>\n",
       "      <td>4</td>\n",
       "      <td>4</td>\n",
       "      <td>2</td>\n",
       "      <td>7</td>\n",
       "      <td>8</td>\n",
       "      <td>...</td>\n",
       "      <td>5</td>\n",
       "      <td>9</td>\n",
       "      <td>9</td>\n",
       "      <td>1</td>\n",
       "      <td>6</td>\n",
       "      <td>7</td>\n",
       "      <td>1</td>\n",
       "      <td>8</td>\n",
       "      <td>2</td>\n",
       "      <td>8</td>\n",
       "    </tr>\n",
       "    <tr>\n",
       "      <th>17</th>\n",
       "      <td>3</td>\n",
       "      <td>1</td>\n",
       "      <td>4</td>\n",
       "      <td>3</td>\n",
       "      <td>4</td>\n",
       "      <td>5</td>\n",
       "      <td>3</td>\n",
       "      <td>7</td>\n",
       "      <td>9</td>\n",
       "      <td>5</td>\n",
       "      <td>...</td>\n",
       "      <td>7</td>\n",
       "      <td>3</td>\n",
       "      <td>8</td>\n",
       "      <td>2</td>\n",
       "      <td>8</td>\n",
       "      <td>5</td>\n",
       "      <td>4</td>\n",
       "      <td>6</td>\n",
       "      <td>5</td>\n",
       "      <td>1</td>\n",
       "    </tr>\n",
       "    <tr>\n",
       "      <th>18</th>\n",
       "      <td>5</td>\n",
       "      <td>1</td>\n",
       "      <td>1</td>\n",
       "      <td>3</td>\n",
       "      <td>3</td>\n",
       "      <td>9</td>\n",
       "      <td>3</td>\n",
       "      <td>3</td>\n",
       "      <td>2</td>\n",
       "      <td>3</td>\n",
       "      <td>...</td>\n",
       "      <td>6</td>\n",
       "      <td>7</td>\n",
       "      <td>2</td>\n",
       "      <td>1</td>\n",
       "      <td>1</td>\n",
       "      <td>3</td>\n",
       "      <td>4</td>\n",
       "      <td>4</td>\n",
       "      <td>5</td>\n",
       "      <td>1</td>\n",
       "    </tr>\n",
       "    <tr>\n",
       "      <th>19</th>\n",
       "      <td>4</td>\n",
       "      <td>5</td>\n",
       "      <td>5</td>\n",
       "      <td>5</td>\n",
       "      <td>1</td>\n",
       "      <td>2</td>\n",
       "      <td>6</td>\n",
       "      <td>6</td>\n",
       "      <td>7</td>\n",
       "      <td>8</td>\n",
       "      <td>...</td>\n",
       "      <td>3</td>\n",
       "      <td>5</td>\n",
       "      <td>4</td>\n",
       "      <td>5</td>\n",
       "      <td>1</td>\n",
       "      <td>2</td>\n",
       "      <td>8</td>\n",
       "      <td>9</td>\n",
       "      <td>3</td>\n",
       "      <td>2</td>\n",
       "    </tr>\n",
       "  </tbody>\n",
       "</table>\n",
       "<p>20 rows × 500 columns</p>\n",
       "</div>"
      ],
      "text/plain": [
       "    round0  round1  round2  round3  round4  round5  round6  round7  round8  \\\n",
       "0        5       7       2       7       3       3       9       3       1   \n",
       "1        2       4       3       2       8       8       7       1       8   \n",
       "2        7       3       5       4       2       7       5       9       9   \n",
       "3        5       7       2       1       8       7       3       5       2   \n",
       "4        7       8       8       9       5       5       2       5       4   \n",
       "5        8       1       9       2       2       4       9       4       7   \n",
       "6        6       9       7       7       2       9       1       1       1   \n",
       "7        2       6       2       6       3       1       1       6       4   \n",
       "8        2       9       3       9       4       4       7       5       2   \n",
       "9        1       6       4       3       6       3       8       2       6   \n",
       "10       9       9       4       9       7       3       3       2       9   \n",
       "11       1       8       2       5       4       6       8       2       2   \n",
       "12       1       6       4       3       7       6       8       3       3   \n",
       "13       4       4       6       6       4       4       8       1       7   \n",
       "14       2       2       9       9       8       2       8       3       1   \n",
       "15       3       7       4       8       3       1       7       3       3   \n",
       "16       9       7       3       8       3       4       4       2       7   \n",
       "17       3       1       4       3       4       5       3       7       9   \n",
       "18       5       1       1       3       3       9       3       3       2   \n",
       "19       4       5       5       5       1       2       6       6       7   \n",
       "\n",
       "    round9    ...     round490  round491  round492  round493  round494  \\\n",
       "0        8    ...            5         4         3         1         4   \n",
       "1        7    ...            6         8         9         8         5   \n",
       "2        2    ...            2         1         2         5         1   \n",
       "3        7    ...            1         3         2         6         1   \n",
       "4        6    ...            1         1         9         8         5   \n",
       "5        1    ...            5         3         1         8         1   \n",
       "6        8    ...            6         7         4         6         8   \n",
       "7        4    ...            2         8         7         9         2   \n",
       "8        8    ...            7         5         2         4         3   \n",
       "9        1    ...            5         1         9         5         6   \n",
       "10       9    ...            4         9         6         2         1   \n",
       "11       5    ...            5         3         3         5         2   \n",
       "12       7    ...            1         4         8         6         5   \n",
       "13       9    ...            9         9         5         8         3   \n",
       "14       7    ...            1         1         8         3         4   \n",
       "15       3    ...            5         2         9         9         4   \n",
       "16       8    ...            5         9         9         1         6   \n",
       "17       5    ...            7         3         8         2         8   \n",
       "18       3    ...            6         7         2         1         1   \n",
       "19       8    ...            3         5         4         5         1   \n",
       "\n",
       "    round495  round496  round497  round498  round499  \n",
       "0          2         2         2         2         6  \n",
       "1          9         8         6         8         4  \n",
       "2          2         9         7         3         3  \n",
       "3          8         8         3         4         3  \n",
       "4          2         8         6         4         7  \n",
       "5          5         1         2         9         7  \n",
       "6          9         4         8         7         1  \n",
       "7          4         9         7         1         1  \n",
       "8          4         1         5         9         7  \n",
       "9          6         5         1         5         8  \n",
       "10         8         1         7         9         7  \n",
       "11         8         6         5         9         6  \n",
       "12         1         1         4         3         1  \n",
       "13         6         6         8         7         8  \n",
       "14         3         8         5         1         8  \n",
       "15         9         1         8         7         4  \n",
       "16         7         1         8         2         8  \n",
       "17         5         4         6         5         1  \n",
       "18         3         4         4         5         1  \n",
       "19         2         8         9         3         2  \n",
       "\n",
       "[20 rows x 500 columns]"
      ]
     },
     "execution_count": 11,
     "metadata": {},
     "output_type": "execute_result"
    }
   ],
   "source": [
    "df = fiveHundred_games()\n",
    "df"
   ]
  },
  {
   "cell_type": "markdown",
   "metadata": {},
   "source": [
    "#### Part i : Proportion each child wins over all"
   ]
  },
  {
   "cell_type": "code",
   "execution_count": 280,
   "metadata": {
    "collapsed": false
   },
   "outputs": [
    {
     "data": {
      "text/plain": [
       "1    0.1388\n",
       "2    0.1330\n",
       "3    0.1206\n",
       "4    0.1133\n",
       "5    0.1115\n",
       "6    0.1043\n",
       "7    0.0982\n",
       "8    0.0905\n",
       "9    0.0898\n",
       "dtype: float64"
      ]
     },
     "execution_count": 280,
     "metadata": {},
     "output_type": "execute_result"
    }
   ],
   "source": [
    "pd.value_counts(df.values.flatten(), normalize=True)"
   ]
  },
  {
   "cell_type": "markdown",
   "metadata": {},
   "source": [
    "#### Part ii: Proportion each child wins in the first round"
   ]
  },
  {
   "cell_type": "code",
   "execution_count": 292,
   "metadata": {
    "collapsed": false
   },
   "outputs": [
    {
     "data": {
      "text/plain": [
       "2    0.144\n",
       "1    0.144\n",
       "3    0.122\n",
       "5    0.110\n",
       "8    0.108\n",
       "4    0.108\n",
       "9    0.096\n",
       "7    0.088\n",
       "6    0.080\n",
       "dtype: float64"
      ]
     },
     "execution_count": 292,
     "metadata": {},
     "output_type": "execute_result"
    }
   ],
   "source": [
    "pd.value_counts(df.ix[:0].values.flatten(), normalize=1)"
   ]
  },
  {
   "cell_type": "markdown",
   "metadata": {},
   "source": [
    "#### Part iii: Proportion each child wins in the last round"
   ]
  },
  {
   "cell_type": "code",
   "execution_count": 301,
   "metadata": {
    "collapsed": false
   },
   "outputs": [
    {
     "data": {
      "text/plain": [
       "1    0.138\n",
       "3    0.132\n",
       "2    0.130\n",
       "4    0.118\n",
       "5    0.108\n",
       "8    0.100\n",
       "6    0.096\n",
       "7    0.090\n",
       "9    0.088\n",
       "dtype: float64"
      ]
     },
     "execution_count": 301,
     "metadata": {},
     "output_type": "execute_result"
    }
   ],
   "source": [
    "pd.value_counts(df.ix[19:19].values.flatten(), normalize=True)"
   ]
  },
  {
   "cell_type": "markdown",
   "metadata": {},
   "source": [
    "#### Part iv"
   ]
  },
  {
   "cell_type": "markdown",
   "metadata": {},
   "source": [
    "I expect that the proportion of wins from the first round will be biased toward the the childern earlier in the count because the parcel starts at child 1. The proportions of wins from the last round are closer to the over all proportions because the starting point isn't fixed in children with the lower numbers."
   ]
  },
  {
   "cell_type": "markdown",
   "metadata": {},
   "source": [
    "#### Part v"
   ]
  },
  {
   "cell_type": "code",
   "execution_count": 303,
   "metadata": {
    "collapsed": false
   },
   "outputs": [],
   "source": [
    "def stratigic_round():\n",
    "    h = .1\n",
    "    l = 0.5\n",
    "    T = np.random.exponential(30)\n",
    "    position = np.array([1])\n",
    "    \n",
    "    for time in np.arange(0, T, h):\n",
    "        p = np.random.random()\n",
    "        \n",
    "        if time < 20:\n",
    "            if p <= (h * l): # Is the ball passed\n",
    "\n",
    "                if position[-1] < 10:\n",
    "                    position = np.append(position, position[-1] + 1)\n",
    "\n",
    "                if position[-1] == 10:\n",
    "                        position = np.append(position, 1)\n",
    "                        \n",
    "        if time >= 20:\n",
    "            if p <= (0.5 * exp((20 - time) / 10)):\n",
    "                    \n",
    "                if position[-1] < 10:\n",
    "                    position = np.append(position, position[-1] + 1)\n",
    "\n",
    "                if position[-1] == 10:\n",
    "                        position = np.append(position, 1)\n",
    "                        \n",
    "    return position"
   ]
  },
  {
   "cell_type": "code",
   "execution_count": 306,
   "metadata": {
    "collapsed": true
   },
   "outputs": [],
   "source": [
    "def stratigic_twenty():\n",
    "    results = np.array([])\n",
    "    for item in range(20):\n",
    "        results = np.append(results, stratigic_round()[-1])\n",
    "    return pd.Series(results)\n",
    "\n",
    "def stratigic_fiveHundred():\n",
    "    np.random.seed(1234)\n",
    "    df = pd.DataFrame()\n",
    "    for item in range(500):\n",
    "            game = pd.DataFrame(stratigic_twenty())\n",
    "            df = pd.concat([df, game], axis=1)\n",
    "    return df"
   ]
  },
  {
   "cell_type": "code",
   "execution_count": 307,
   "metadata": {
    "collapsed": true
   },
   "outputs": [],
   "source": [
    "strat = stratigic_fiveHundred()"
   ]
  },
  {
   "cell_type": "code",
   "execution_count": 309,
   "metadata": {
    "collapsed": false
   },
   "outputs": [
    {
     "data": {
      "text/plain": [
       "1    0.1345\n",
       "2    0.1394\n",
       "3    0.1223\n",
       "4    0.1126\n",
       "5    0.1073\n",
       "6    0.1043\n",
       "7    0.1006\n",
       "8    0.0907\n",
       "9    0.0883\n",
       "dtype: float64"
      ]
     },
     "execution_count": 309,
     "metadata": {},
     "output_type": "execute_result"
    }
   ],
   "source": [
    "pd.value_counts(strat.values.flatten(), sort=False, normalize=True)"
   ]
  },
  {
   "cell_type": "markdown",
   "metadata": {},
   "source": [
    "Once the children start to play straigicly, the proportion of wins becomes less conentrated in the lower numbers."
   ]
  },
  {
   "cell_type": "markdown",
   "metadata": {},
   "source": [
    "## Question 2\n",
    "\n",
    "### Method:\n",
    "    \n",
    "### Results:\n"
   ]
  },
  {
   "cell_type": "code",
   "execution_count": 4,
   "metadata": {
    "collapsed": false
   },
   "outputs": [
    {
     "data": {
      "text/plain": [
       "(0.1, array([ 0.01,  0.03,  0.02,  0.01]))"
      ]
     },
     "execution_count": 4,
     "metadata": {},
     "output_type": "execute_result"
    }
   ],
   "source": [
    "h = 0.01\n",
    "l = 10\n",
    "u = np.array([1, 3, 2, 1])\n",
    "\n",
    "pUp = h * l\n",
    "pDown = h * u\n",
    "\n",
    "pUp, pDown"
   ]
  },
  {
   "cell_type": "code",
   "execution_count": 5,
   "metadata": {
    "collapsed": false
   },
   "outputs": [],
   "source": [
    " def positionChange(position):\n",
    "    '''\n",
    "    This function takes a position argument and randomly determines\n",
    "    a new position\n",
    "    '''\n",
    "    r = np.random.random()\n",
    "    if position == 0:\n",
    "        if r < 0.1: #chance up\n",
    "            position += 1\n",
    "        else: #chance no move\n",
    "            position = 0\n",
    "\n",
    "    elif position == 1:\n",
    "        if r < 0.1: #chance up\n",
    "            position += 1\n",
    "        elif r < .01 + .1: #chance down\n",
    "            position -= 1\n",
    "        else: #chance no move\n",
    "            position = 1\n",
    "\n",
    "    elif position == 2:\n",
    "        if r < 0.1: #chance up\n",
    "            position += 1\n",
    "        elif r < .03 + .1: #chance down\n",
    "            position -= 1\n",
    "        else: #chance no move\n",
    "            position = 2\n",
    "\n",
    "    elif position == 3:\n",
    "        if r < 0.1: #chance up\n",
    "            position += 1\n",
    "        elif r < .02 + .1: #chance down\n",
    "            position -= 1\n",
    "        else: #chance no move\n",
    "            position = 3\n",
    "\n",
    "    elif position == 4:\n",
    "        if r < .01: #chance down\n",
    "            position -= 1\n",
    "        else: #chance no move\n",
    "            position = 4\n",
    "            \n",
    "    return position"
   ]
  },
  {
   "cell_type": "code",
   "execution_count": 6,
   "metadata": {
    "collapsed": true
   },
   "outputs": [],
   "source": [
    "def runningPosition():\n",
    "    '''\n",
    "    This function feeds an inital position to the positionChange function.\n",
    "    Then it records the position for each step as it iterates through a set period.\n",
    "    '''\n",
    "    position = np.array([0])\n",
    "    for move in np.arange(0, 5999, 1):\n",
    "        position = np.append(position, positionChange(position[-1]))\n",
    "    return pd.Series(position)"
   ]
  },
  {
   "cell_type": "code",
   "execution_count": 7,
   "metadata": {
    "collapsed": false
   },
   "outputs": [
    {
     "name": "stdout",
     "output_type": "stream",
     "text": [
      "4    5501\n",
      "3     394\n",
      "1      54\n",
      "2      39\n",
      "0      12\n",
      "dtype: int64\n"
     ]
    },
    {
     "data": {
      "text/plain": [
       "6000"
      ]
     },
     "execution_count": 7,
     "metadata": {},
     "output_type": "execute_result"
    }
   ],
   "source": [
    "print(runningPosition().value_counts())\n",
    "len(runningPosition())"
   ]
  },
  {
   "cell_type": "code",
   "execution_count": 8,
   "metadata": {
    "collapsed": false
   },
   "outputs": [],
   "source": [
    "def runningPositionCount():\n",
    "    '''\n",
    "    This function feeds an inital position to the positionChange function.\n",
    "    Then it records the position for each step as it iterates through a set period.\n",
    "    It recoreds the number of 0s, 1s, 2s, & 3s\n",
    "    as it iterates throught the position changes.\n",
    "    It returns the cumulative sum of the counts for each state\n",
    "    divided by the number of itterations.\n",
    "    '''\n",
    "    position = np.array([0])\n",
    "    \n",
    "    zeros = np.array([])\n",
    "    ones = np.array([])\n",
    "    twos = np.array([])\n",
    "    threes = np.array([])\n",
    "    fours = np.array([])    \n",
    "    realization = 1\n",
    "    weight = np.arange(1, 6000, 1)\n",
    "    \n",
    "    for move in np.arange(0, 5999, 1):\n",
    "        new_pos = positionChange(position[-1])\n",
    "        position = np.append(position, new_pos)\n",
    "        \n",
    "        if new_pos == 0:\n",
    "            zeros = np.append(zeros, 1)\n",
    "        else:\n",
    "            zeros = np.append(zeros, 0)\n",
    "        \n",
    "        if new_pos == 1:\n",
    "            ones = np.append(ones, 1)\n",
    "        else:\n",
    "            ones = np.append(ones, 0)\n",
    "        \n",
    "        if new_pos == 2:\n",
    "            twos = np.append(twos, 1)\n",
    "        else:\n",
    "            twos = np.append(twos, 0)\n",
    "        \n",
    "        if new_pos == 3:\n",
    "            threes = np.append(threes, 1)\n",
    "        else:\n",
    "            threes = np.append(threes, 0)\n",
    "\n",
    "        if new_pos == 4:\n",
    "            fours = np.append(fours, 1)\n",
    "        else:\n",
    "            fours = np.append(fours, 0)\n",
    "            \n",
    "        realization += 1\n",
    "                                      \n",
    "    return (\n",
    "            pd.Series(position),\n",
    "            zeros.cumsum() / weight,\n",
    "            ones.cumsum() / weight,\n",
    "            twos.cumsum() / weight,\n",
    "            threes.cumsum() / weight,\n",
    "            fours.cumsum() / weight\n",
    "            )"
   ]
  },
  {
   "cell_type": "code",
   "execution_count": 9,
   "metadata": {
    "collapsed": false
   },
   "outputs": [
    {
     "data": {
      "text/plain": [
       "array([ 0.        ,  0.        ,  0.        , ...,  0.00083375,\n",
       "        0.00083361,  0.00083347])"
      ]
     },
     "execution_count": 9,
     "metadata": {},
     "output_type": "execute_result"
    }
   ],
   "source": [
    "runningPositionCount()[2]"
   ]
  },
  {
   "cell_type": "code",
   "execution_count": 10,
   "metadata": {
    "collapsed": false,
    "scrolled": true
   },
   "outputs": [],
   "source": [
    "def graph(state):\n",
    "    '''\n",
    "    Graph probability that a state is occupied.\n",
    "    '''\n",
    "    time = np.arange(0, 5999, 1)\n",
    "    fig, ax = plt.subplots(figsize=(10,6))\n",
    "    for item in range(200):\n",
    "        ax.plot(time, runningPositionCount()[state + 1])\n",
    "    plt.show()"
   ]
  },
  {
   "cell_type": "code",
   "execution_count": 11,
   "metadata": {
    "collapsed": false
   },
   "outputs": [
    {
     "data": {
      "image/png": "[encoded data removed]",
      "text/plain": [
       "<matplotlib.figure.Figure at 0x111390940>"
      ]
     },
     "metadata": {},
     "output_type": "display_data"
    }
   ],
   "source": [
    "graph(1)"
   ]
  },
  {
   "cell_type": "markdown",
   "metadata": {},
   "source": [
    "The probability that the system in in state one appears to be highest in the first 100 time periods."
   ]
  },
  {
   "cell_type": "markdown",
   "metadata": {},
   "source": [
    "Part ii"
   ]
  },
  {
   "cell_type": "code",
   "execution_count": 315,
   "metadata": {
    "collapsed": false
   },
   "outputs": [
    {
     "data": {
      "text/plain": [
       "array([[-10.,   1.,   0.,   0.,   0.],\n",
       "       [ 10., -11.,   3.,   0.,   0.],\n",
       "       [  0.,  10., -13.,   2.,   0.],\n",
       "       [  0.,   0.,  10., -12.,   1.],\n",
       "       [  0.,   0.,   0.,  10.,  -1.]])"
      ]
     },
     "execution_count": 315,
     "metadata": {},
     "output_type": "execute_result"
    }
   ],
   "source": [
    "def matrix_creator():\n",
    "    l = 10\n",
    "    u = np.array([0, 1, 3, 2, 1])\n",
    "\n",
    "    M = np.zeros((5, 5))\n",
    "    for item in range(4):\n",
    "        M[item, item] = - (10 + u[item])\n",
    "        M[4, 4] = - u[4]\n",
    "        M[item, item + 1] = u[item + 1]\n",
    "        M[item, item - 1] = l\n",
    "        M[4, 3] = l\n",
    "        M[0, 4] = 0\n",
    "\n",
    "    return M\n",
    "\n",
    "M = matrix_creator()\n",
    "M"
   ]
  },
  {
   "cell_type": "code",
   "execution_count": 328,
   "metadata": {
    "collapsed": false
   },
   "outputs": [
    {
     "name": "stdout",
     "output_type": "stream",
     "text": [
      "[ -1.97015621e+01  -1.32984379e+01  -9.44948974e+00  -4.55051026e+00\n",
      "   3.67185868e-17]\n",
      "\n",
      "[[ -2.10770073e-02  -4.60792441e-02  -7.65517152e-02  -3.78921795e-02\n",
      "    5.96893387e-04]\n",
      " [  2.04479896e-01   1.51989524e-01  -4.21425044e-02  -2.06493044e-01\n",
      "    5.96893387e-03]\n",
      " [ -5.22841481e-01   3.71513203e-02   2.33391589e-01  -3.17617657e-01\n",
      "    1.98964462e-02]\n",
      " [  7.29527852e-01  -7.65491302e-01   6.25042137e-01  -3.09388350e-01\n",
      "    9.94822312e-02]\n",
      " [ -3.90089260e-01   6.22429702e-01  -7.39739506e-01   8.71391231e-01\n",
      "    9.94822312e-01]]\n"
     ]
    }
   ],
   "source": [
    "w, v = np.linalg.eig(M)\n",
    "print(w)\n",
    "print('')\n",
    "print(v)"
   ]
  },
  {
   "cell_type": "markdown",
   "metadata": {},
   "source": [
    "To solve for the local maximum of p1, we must find an equation, differentiate it, and set p1' == 0. We will use the equations described on page 18 amd 19 of lecture 8.\n",
    "\n",
    "Step 1: pull the second element from each of the eigenvectors.\n",
    "Step 2: since the eigenvalues will come out of the exponent when we take the derivative, we can multiply the two togeter.\n"
   ]
  },
  {
   "cell_type": "code",
   "execution_count": 343,
   "metadata": {
    "collapsed": false
   },
   "outputs": [
    {
     "data": {
      "text/plain": [
       "array([ 0.2044799 ,  0.15198952, -0.0421425 , -0.20649304,  0.00596893])"
      ]
     },
     "execution_count": 343,
     "metadata": {},
     "output_type": "execute_result"
    }
   ],
   "source": [
    "v1 = v[1,:]\n",
    "v1"
   ]
  },
  {
   "cell_type": "code",
   "execution_count": 350,
   "metadata": {
    "collapsed": false
   },
   "outputs": [
    {
     "data": {
      "text/plain": [
       "array([ -4.02857337e+00,  -2.02122325e+00,   3.98225163e-01,\n",
       "         9.39648714e-01,   2.19170817e-19])"
      ]
     },
     "execution_count": 350,
     "metadata": {},
     "output_type": "execute_result"
    }
   ],
   "source": [
    "np.multiply(w, v1)"
   ]
  },
  {
   "cell_type": "code",
   "execution_count": 357,
   "metadata": {
    "collapsed": false
   },
   "outputs": [
    {
     "name": "stderr",
     "output_type": "stream",
     "text": [
      "/Users/user/anaconda/lib/python3.5/site-packages/scipy/optimize/minpack.py:161: RuntimeWarning: The iteration is not making good progress, as measured by the \n",
      "  improvement from the last ten iterations.\n",
      "  warnings.warn(msg, RuntimeWarning)\n"
     ]
    },
    {
     "data": {
      "text/plain": [
       "array([ 17.9678228])"
      ]
     },
     "execution_count": 357,
     "metadata": {},
     "output_type": "execute_result"
    }
   ],
   "source": [
    "from scipy.optimize import fsolve\n",
    "\n",
    "prob1 = lambda t: (-4.02857337e+00*exp(-1.97015621e+01*t) -2.02122325e+00*exp(-1.32984379e+01*t) + 3.98225163e-01*exp(-9.44948974e+00*t) + 9.39648714e-01*exp(-4.55051026e+00*t) + 2.19170817e-19*exp(3.67185868e-17*t))\n",
    "\n",
    "t_guess = 10\n",
    "fsolve(prob1, t_guess)"
   ]
  },
  {
   "cell_type": "markdown",
   "metadata": {},
   "source": [
    "This is my best attempt at solving this in python. scipy.optimization.fsolve() finds the roots of 'f(x) == 0'. This seems reasonable given the shape of the graph above."
   ]
  }
 ],
 "metadata": {
  "anaconda-cloud": {},
  "kernelspec": {
   "display_name": "Python [default]",
   "language": "python",
   "name": "python3"
  },
  "language_info": {
   "codemirror_mode": {
    "name": "ipython",
    "version": 3
   },
   "file_extension": ".py",
   "mimetype": "text/x-python",
   "name": "python",
   "nbconvert_exporter": "python",
   "pygments_lexer": "ipython3",
   "version": "3.5.2"
  }
 },
 "nbformat": 4,
 "nbformat_minor": 0
}
